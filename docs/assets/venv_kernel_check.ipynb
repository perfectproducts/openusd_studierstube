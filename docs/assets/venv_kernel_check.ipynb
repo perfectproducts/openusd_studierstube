{
 "cells": [
  {
   "cell_type": "markdown",
   "id": "93d77351",
   "metadata": {},
   "source": [
    "\n",
    "# 🔍 venv Kernel Check (VS Code + Jupyter)\n",
    "\n",
    "Dieses Notebook hilft dir zu verifizieren, dass dein Jupyter **Kernel** wirklich das **Python deiner venv** benutzt.\n",
    "\n",
    "**Nutzen:**  \n",
    "- Zeigt `sys.executable` (Pfad zum Python des Kernels)  \n",
    "- Prüft `pip --version` und `pip list` über genau dieses Python  \n",
    "- Prüft, ob ein venv-Context erkannt wird (z. B. `VIRTUAL_ENV`)  \n",
    "- Gibt Hinweise, falls etwas nicht passt\n",
    "\n",
    "> **Tipp:** Wähle in VS Code oben rechts im Notebook **Kernel auswählen** → deinen venv-Kernel (z. B. *Python (meinvenv)*).\n"
   ]
  },
  {
   "cell_type": "code",
   "execution_count": null,
   "id": "56a0bc50",
   "metadata": {},
   "outputs": [],
   "source": [
    "\n",
    "import sys, os, platform\n",
    "\n",
    "print(\"Python-Version:\", sys.version)\n",
    "print(\"Executable:\", sys.executable)\n",
    "print(\"Platform:\", platform.platform())\n",
    "print(\"Arbeitsverzeichnis:\", os.getcwd())\n",
    "\n",
    "# Praktisch zum Vergleichen der Pfade\n",
    "import site\n",
    "try:\n",
    "    print(\"site.getsitepackages():\", site.getsitepackages())\n",
    "except Exception as e:\n",
    "    print(\"site.getsitepackages() nicht verfügbar:\", e)\n",
    "print(\"sys.path[0..3]:\", sys.path[:3])\n"
   ]
  },
  {
   "cell_type": "code",
   "execution_count": null,
   "id": "937f0469",
   "metadata": {},
   "outputs": [],
   "source": [
    "\n",
    "import subprocess, sys\n",
    "\n",
    "print(\"pip --version (über dieses Python):\")\n",
    "subprocess.run([sys.executable, \"-m\", \"pip\", \"--version\"], check=False)\n",
    "\n",
    "print(\"\\nAktive Pakete (Kurzliste):\")\n",
    "subprocess.run([sys.executable, \"-m\", \"pip\", \"list\"], check=False)\n"
   ]
  },
  {
   "cell_type": "code",
   "execution_count": null,
   "id": "c2366eab",
   "metadata": {},
   "outputs": [],
   "source": [
    "\n",
    "import os, sys, pathlib\n",
    "\n",
    "exe = pathlib.Path(sys.executable).as_posix()\n",
    "venv_env = os.environ.get(\"VIRTUAL_ENV\")\n",
    "\n",
    "print(\"VIRTUAL_ENV:\", venv_env)\n",
    "in_venv = (getattr(sys, 'base_prefix', sys.prefix) != sys.prefix) or bool(venv_env)\n",
    "\n",
    "print(\"In venv erkannt?:\", in_venv)\n",
    "\n",
    "# Heuristik: schaut, ob typische Ordnerbestandteile von venv im Pfad liegen\n",
    "hints = [\"venv\", \".venv\", \"env\", \".env\", \"Env\", \"pyenv\"]\n",
    "is_path_suspicious = not any(h in exe for h in hints)\n",
    "\n",
    "if in_venv and is_path_suspicious:\n",
    "    print(\"⚠️ Hinweis: Es sieht nach venv aus, aber der Python-Pfad enthält keinen klassischen venv-Ordnernamen.\")\n",
    "elif not in_venv:\n",
    "    print(\"❌ Es wirkt so, als wäre dies KEINE venv. Prüfe den gewählten Kernel in VS Code.\")\n",
    "else:\n",
    "    print(\"✅ venv erkannt und Pfad sieht plausibel aus.\")\n"
   ]
  },
  {
   "cell_type": "code",
   "execution_count": null,
   "id": "2ef5d7b3",
   "metadata": {},
   "outputs": [],
   "source": [
    "\n",
    "import shutil, sys, subprocess, platform\n",
    "\n",
    "print(\"shutil.which('python'):\", shutil.which(\"python\"))\n",
    "cmd = [\"where\", \"python\"] if platform.system().lower().startswith(\"win\") else [\"which\", \"-a\", \"python\"]\n",
    "print(\"System-Python-Suche (nur Info):\")\n",
    "subprocess.run(cmd, check=False)\n"
   ]
  },
  {
   "cell_type": "markdown",
   "id": "bb9e1285",
   "metadata": {},
   "source": [
    "\n",
    "## ✅ Interpretation\n",
    "\n",
    "- **`Executable`** sollte auf dein venv zeigen, z. B. `.../.venv/bin/python` (Linux/Mac) oder `...\\.venv\\Scripts\\python.exe` (Windows).\n",
    "- **`pip --version`** sollte die **gleiche** Python-Installation referenzieren.\n",
    "- **`VIRTUAL_ENV`** ist oft gesetzt, wenn die Umgebung korrekt aktiv ist (nicht zwingend in jedem Setup erforderlich).\n",
    "- Wenn oben **❌ KEINE venv** steht, wähle in VS Code den richtigen Kernel aus.\n",
    "\n",
    "---\n",
    "\n",
    "### Häufige Fixes\n",
    "1. `pip install ipykernel` **im venv** installieren.\n",
    "2. Kernel registrieren:\n",
    "   ```bash\n",
    "   python -m ipykernel install --user --name=meinvenv --display-name \"Python (meinvenv)\"\n",
    "   ```\n",
    "3. VS Code neu laden und im Notebook **Kernel → Python (meinvenv)** auswählen.\n"
   ]
  }
 ],
 "metadata": {
  "kernelspec": {
   "display_name": "Python 3",
   "language": "python",
   "name": "python3"
  },
  "language_info": {
   "name": "python",
   "pygments_lexer": "ipython3"
  }
 },
 "nbformat": 4,
 "nbformat_minor": 5
}
